{
 "cells": [
  {
   "cell_type": "code",
   "execution_count": 1,
   "metadata": {},
   "outputs": [
    {
     "ename": "SyntaxError",
     "evalue": "invalid syntax (<ipython-input-1-b43bed512ecf>, line 25)",
     "output_type": "error",
     "traceback": [
      "\u001b[0;36m  File \u001b[0;32m\"<ipython-input-1-b43bed512ecf>\"\u001b[0;36m, line \u001b[0;32m25\u001b[0m\n\u001b[0;31m    except urllib2.HTTPError, e:\u001b[0m\n\u001b[0m                            ^\u001b[0m\n\u001b[0;31mSyntaxError\u001b[0m\u001b[0;31m:\u001b[0m invalid syntax\n"
     ]
    }
   ],
   "source": [
    "SQL_SOURCE = 'https://vjs306.carto.com/api/v2/sql?q='\n",
    "\n",
    "import urllib2\n",
    "import urllib\n",
    "import StringIO\n",
    "import ast\n",
    "import pandas as pd\n",
    "\n",
    "from IPython.display import Image\n",
    "\n",
    "def queryCartoDB(query, format='CSV', source=SQL_SOURCE):\n",
    "    '''queries carto datasets from a given carto account\n",
    "    Arguments: \n",
    "    query - string: a valid sql query string\n",
    "    format - outlut format  OPTIONAL (default CSV)\n",
    "    source - a valid sql api endpoint OPTIONAL (default carto fb55 account)\n",
    "    Returns:\n",
    "    the return of the sql query AS A STRING\n",
    "    NOTES:\n",
    "    designed for the carto API, tested only with CSV return format'''\n",
    "    \n",
    "    data = urllib.urlencode({'format': format, 'q': query})\n",
    "    try:\n",
    "        response = urllib2.urlopen(source, data)\n",
    "    except urllib2.HTTPError, e:\n",
    "        raise ValueError('\\n'.join(ast.literal_eval(e.readline())['error']))\n",
    "    except Exception:\n",
    "        raise\n",
    "    return response.read()"
   ]
  },
  {
   "cell_type": "code",
   "execution_count": null,
   "metadata": {},
   "outputs": [],
   "source": [
    "sQuery = '''\n",
    "SELECT *\n",
    "FROM citibike\n",
    "'''"
   ]
  },
  {
   "cell_type": "code",
   "execution_count": null,
   "metadata": {},
   "outputs": [],
   "source": [
    "pd.read_csv(StringIO.StringIO(queryCartoDB(sQuery)), sep=',')"
   ]
  },
  {
   "cell_type": "markdown",
   "metadata": {},
   "source": [
    "Table 1: Original dataset for citibike data"
   ]
  },
  {
   "cell_type": "markdown",
   "metadata": {},
   "source": [
    "### Query #1"
   ]
  },
  {
   "cell_type": "code",
   "execution_count": null,
   "metadata": {},
   "outputs": [],
   "source": [
    "sQuery1 = '''\n",
    "SELECT * FROM citibike\n",
    "WHERE tripduration<10800\n",
    "ORDER BY tripduration DESC\n",
    "LIMIT 3 \n",
    "'''\n",
    "pd.read_csv(StringIO.StringIO(queryCartoDB(sQuery1)), sep=',')"
   ]
  },
  {
   "cell_type": "markdown",
   "metadata": {},
   "source": [
    "Table 2: First 3 instances where trip duration is less than 3 hours"
   ]
  },
  {
   "cell_type": "markdown",
   "metadata": {},
   "source": [
    "### Query #2"
   ]
  },
  {
   "cell_type": "code",
   "execution_count": null,
   "metadata": {},
   "outputs": [],
   "source": [
    "sQuery2 = '''\n",
    "SELECT AVG(tripduration) as avt, AVG(birth_year) as avb\n",
    "FROM citibike\n",
    "'''\n",
    "pd.read_csv(StringIO.StringIO(queryCartoDB(sQuery2)), sep=',')"
   ]
  },
  {
   "cell_type": "markdown",
   "metadata": {},
   "source": [
    "Table 3: Average trip duration and average year of birth"
   ]
  },
  {
   "cell_type": "markdown",
   "metadata": {},
   "source": [
    "### Query #3"
   ]
  },
  {
   "cell_type": "code",
   "execution_count": null,
   "metadata": {},
   "outputs": [],
   "source": [
    "sQuery3 = '''\n",
    "SELECT *\n",
    "FROM citibike\n",
    "WHERE starttime >= '2015-02-02 00:00'\n",
    "  AND starttime < '2015-02-03 00:00'\n",
    "'''\n",
    "pd.read_csv(StringIO.StringIO(queryCartoDB(sQuery3)), sep=',')"
   ]
  },
  {
   "cell_type": "markdown",
   "metadata": {},
   "source": [
    "Table 4: Citibike data for only February 2nd, 2015"
   ]
  },
  {
   "cell_type": "markdown",
   "metadata": {},
   "source": [
    "### Query #4"
   ]
  },
  {
   "cell_type": "code",
   "execution_count": null,
   "metadata": {},
   "outputs": [],
   "source": [
    "sQuery4 = '''\n",
    "SELECT AVG(tripduration)\n",
    "FROM citibike\n",
    "WHERE extract(DOW from starttime) NOT IN (0,6) \n",
    "'''\n",
    "pd.read_csv(StringIO.StringIO(queryCartoDB(sQuery4)), sep=',')"
   ]
  },
  {
   "cell_type": "markdown",
   "metadata": {},
   "source": [
    "Table 5: Average trip duration for weekdays, in seconds  (~11min)"
   ]
  },
  {
   "cell_type": "markdown",
   "metadata": {},
   "source": [
    "### Query #5"
   ]
  },
  {
   "cell_type": "code",
   "execution_count": null,
   "metadata": {},
   "outputs": [],
   "source": [
    "sQuery5 = '''\n",
    "SELECT start_station_latitude, start_station_longitude\n",
    "FROM citibike\n",
    "GROUP BY start_station_latitude, start_station_longitude\n",
    "'''\n",
    "pd.read_csv(StringIO.StringIO(queryCartoDB(sQuery5)), sep=',')"
   ]
  },
  {
   "cell_type": "markdown",
   "metadata": {},
   "source": [
    "Table 6: Showing the unique start stations, achieved by using groupby"
   ]
  },
  {
   "cell_type": "markdown",
   "metadata": {},
   "source": [
    "### Query #6"
   ]
  },
  {
   "cell_type": "code",
   "execution_count": null,
   "metadata": {},
   "outputs": [],
   "source": [
    "sQuery6 = '''\n",
    "SELECT start_station_id, COUNT(*)\n",
    "FROM citibike\n",
    "GROUP BY start_station_id, \n",
    "start_station_latitude, start_station_longitude\n",
    "'''\n",
    "pd.read_csv(StringIO.StringIO(queryCartoDB(sQuery6)), sep=',')"
   ]
  },
  {
   "cell_type": "markdown",
   "metadata": {},
   "source": [
    "Table 7: Total count of number of trips originating at each station"
   ]
  },
  {
   "cell_type": "markdown",
   "metadata": {},
   "source": [
    "### Query #7"
   ]
  },
  {
   "cell_type": "code",
   "execution_count": null,
   "metadata": {},
   "outputs": [],
   "source": [
    "sQuery7 = '''\n",
    "SELECT CDB_LatLng(start_station_latitude, start_station_longitude) as the_geom\n",
    "FROM citibike\n",
    "GROUP BY start_station_id, \n",
    "start_station_latitude, start_station_longitude\n",
    "'''\n",
    "pd.read_csv(StringIO.StringIO(queryCartoDB(sQuery7)), sep=',')"
   ]
  },
  {
   "cell_type": "markdown",
   "metadata": {},
   "source": [
    "Table 8: Creating coordinates, will be useful on next exercise"
   ]
  },
  {
   "cell_type": "markdown",
   "metadata": {},
   "source": [
    "### Query #8"
   ]
  },
  {
   "cell_type": "code",
   "execution_count": null,
   "metadata": {},
   "outputs": [],
   "source": [
    "sQuery8 = '''\n",
    "SELECT CDB_TransformToWebmercator(\n",
    "           CDB_LatLng(start_station_latitude, \n",
    "                      start_station_longitude)) as the_geom_webmercator,\n",
    "       MIN(cartodb_id) as cartodb_id\n",
    "FROM citibike\n",
    "GROUP BY start_station_id, \n",
    "start_station_latitude, start_station_longitude\n",
    "'''\n",
    "pd.read_csv(StringIO.StringIO(queryCartoDB(sQuery8)), sep=',')"
   ]
  },
  {
   "cell_type": "markdown",
   "metadata": {},
   "source": [
    "Table 9: Interpreting the coordinates using the geom_webmercator"
   ]
  },
  {
   "cell_type": "code",
   "execution_count": null,
   "metadata": {},
   "outputs": [],
   "source": [
    "Image(\"https://raw.githubusercontent.com/valschi/PUI2017_vjs306/master/HW7_vjs306/all_stations.png\", width=450, height=450)"
   ]
  },
  {
   "cell_type": "markdown",
   "metadata": {},
   "source": [
    "Figure1: Map corresponding to Query #8, plotting the coordinates of all the unique originating stations"
   ]
  },
  {
   "cell_type": "markdown",
   "metadata": {},
   "source": [
    "### Query #9"
   ]
  },
  {
   "cell_type": "code",
   "execution_count": null,
   "metadata": {},
   "outputs": [],
   "source": [
    "sQuery9 = '''\n",
    "SELECT CDB_TransformToWebmercator(\n",
    "           CDB_LatLng(start_station_latitude, \n",
    "                      start_station_longitude)) as the_geom_webmercator,\n",
    "       MIN(cartodb_id) as cartodb_id \n",
    "FROM citibike\n",
    "WHERE ST_DWithin(CDB_LatLng(start_station_latitude, \n",
    "                            start_station_longitude)::geography,\n",
    "                 CDB_LatLng(40.7577, -73.9857)::geography,\n",
    "                 500)\n",
    "GROUP BY start_station_id, \n",
    "start_station_latitude, start_station_longitude\n",
    "'''\n",
    "pd.read_csv(StringIO.StringIO(queryCartoDB(sQuery9)), sep=',')"
   ]
  },
  {
   "cell_type": "markdown",
   "metadata": {},
   "source": [
    "Table 10: Coordinates for the stations within 500 meters from Times Square"
   ]
  },
  {
   "cell_type": "code",
   "execution_count": null,
   "metadata": {},
   "outputs": [],
   "source": [
    "Image(\"https://raw.githubusercontent.com/valschi/PUI2017_vjs306/master/HW7_vjs306/stations%20times%20square.png\", height = 450, width = 450)"
   ]
  },
  {
   "cell_type": "markdown",
   "metadata": {},
   "source": [
    "Figure 2: Map corresponding to Query #9, plotting the stations within 500m of Times Square"
   ]
  },
  {
   "cell_type": "markdown",
   "metadata": {},
   "source": [
    "### Query #10"
   ]
  },
  {
   "cell_type": "code",
   "execution_count": null,
   "metadata": {},
   "outputs": [],
   "source": [
    "sQuery10 = '''\n",
    "SELECT CDB_TransformToWebmercator(\n",
    "           CDB_LatLng(start_station_latitude, \n",
    "                      start_station_longitude)) as the_geom_webmercator,\n",
    "       MIN(cartodb_id) as cartodb_id, \n",
    "       AVG(tripduration) as ta\n",
    "FROM citibike\n",
    "WHERE ST_DWithin(CDB_LatLng(start_station_latitude, \n",
    "                            start_station_longitude)::geography,\n",
    "                 CDB_LatLng(40.7577, -73.9857)::geography,\n",
    "                 500)\n",
    "GROUP BY start_station_id, \n",
    "start_station_latitude, start_station_longitude\n",
    "'''\n",
    "pd.read_csv(StringIO.StringIO(queryCartoDB(sQuery10)), sep=',')"
   ]
  },
  {
   "cell_type": "markdown",
   "metadata": {},
   "source": [
    "Table 11: adding Average trip duration as ta to be able to add weight to the dots"
   ]
  },
  {
   "cell_type": "markdown",
   "metadata": {},
   "source": [
    "### Query #11"
   ]
  },
  {
   "cell_type": "code",
   "execution_count": null,
   "metadata": {},
   "outputs": [],
   "source": [
    "sQuery11 = '''\n",
    "SELECT ST_Makeline(\n",
    "       CDB_TransformToWebmercator(\n",
    "           CDB_LatLng(start_station_latitude, \n",
    "                      start_station_longitude)),\n",
    "       CDB_TransformToWebmercator(\n",
    "           CDB_LatLng(end_station_latitude, \n",
    "                      end_station_longitude))\n",
    "       ) as the_geom_webmercator,          \n",
    "       MIN(cartodb_id) as cartodb_id \n",
    "FROM citibike\n",
    "WHERE ST_DWithin(CDB_LatLng(start_station_latitude, \n",
    "                            start_station_longitude)::geography,\n",
    "                 CDB_LatLng(40.7577, -73.9857)::geography,\n",
    "                 500)\n",
    "GROUP BY start_station_id, start_station_latitude, start_station_longitude,\n",
    "         end_station_id, end_station_latitude, end_station_longitude\n",
    "'''\n",
    "pd.read_csv(StringIO.StringIO(queryCartoDB(sQuery11)), sep=',')"
   ]
  },
  {
   "cell_type": "markdown",
   "metadata": {},
   "source": [
    "Table 12: This will allow plot lines between the stations"
   ]
  },
  {
   "cell_type": "code",
   "execution_count": null,
   "metadata": {},
   "outputs": [],
   "source": [
    "Image(\"https://raw.githubusercontent.com/valschi/PUI2017_vjs306/master/HW7_vjs306/bike%20lines.png\", height = 450, width = 450)"
   ]
  },
  {
   "cell_type": "markdown",
   "metadata": {},
   "source": [
    "Figure 3: Map corresponding to Query #11, drawing lines between stations"
   ]
  },
  {
   "cell_type": "markdown",
   "metadata": {},
   "source": [
    "## ASH Score 100. Extra Credit 0"
   ]
  },
  {
   "cell_type": "code",
   "execution_count": null,
   "metadata": {},
   "outputs": [],
   "source": []
  }
 ],
 "metadata": {
  "kernelspec": {
   "display_name": "PUI2016_Python3",
   "language": "python",
   "name": "pui2016_python3"
  },
  "language_info": {
   "codemirror_mode": {
    "name": "ipython",
    "version": 3
   },
   "file_extension": ".py",
   "mimetype": "text/x-python",
   "name": "python",
   "nbconvert_exporter": "python",
   "pygments_lexer": "ipython3",
   "version": "3.5.4"
  }
 },
 "nbformat": 4,
 "nbformat_minor": 2
}
